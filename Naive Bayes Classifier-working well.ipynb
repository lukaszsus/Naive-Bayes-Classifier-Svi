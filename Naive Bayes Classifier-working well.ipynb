{
 "cells": [
  {
   "cell_type": "code",
   "execution_count": 1,
   "metadata": {},
   "outputs": [],
   "source": [
    "import pyro\n",
    "import pyro.optim as optim\n",
    "import torch\n",
    "import pandas as pd\n",
    "import numpy as np\n",
    "import matplotlib.pyplot as plt\n",
    "from tqdm import tqdm_notebook as tqdm\n",
    "from torch.distributions import constraints\n",
    "from sklearn.model_selection import StratifiedKFold\n",
    "from sklearn import metrics, preprocessing"
   ]
  },
  {
   "cell_type": "code",
   "execution_count": 2,
   "metadata": {},
   "outputs": [],
   "source": [
    "pyro.set_rng_seed(1)\n",
    "pyro.enable_validation(True)\n",
    "pyro.clear_param_store()"
   ]
  },
  {
   "cell_type": "code",
   "execution_count": 3,
   "metadata": {},
   "outputs": [],
   "source": [
    "# loading datasets\n",
    "df = pd.read_csv('wine.data', header=None)\n",
    "X = df.iloc[:,1:]\n",
    "y = df.iloc[:,0].astype(int)\n",
    "y = y - 1"
   ]
  },
  {
   "cell_type": "code",
   "execution_count": 4,
   "metadata": {},
   "outputs": [],
   "source": [
    "def model(X):\n",
    "    # rejestrujemy zmienną do przestrzeni optymalizacji (store pyro)\n",
    "    mu_param = pyro.param(\"mu\", torch.zeros_like(naive_bayes.current_class_probs))\n",
    "    # ograniczamy wartości do nieujemnych\n",
    "    sigma_param = pyro.param(\"sigma\", torch.ones_like(naive_bayes.current_class_probs), constraint=constraints.positive)\n",
    "    params = pyro.distributions.Normal(loc=mu_param, scale=sigma_param).to_event(1)\n",
    "    with pyro.plate(\"map\", len(X)):\n",
    "        pyro.sample(\"probs\", params, obs=X)\n",
    "\n",
    "def guide(X):\n",
    "    # rejestrujemy zmienną do przestrzeni optymalizacji (store pyro)\n",
    "    mu_param = pyro.param(\"mu\", torch.zeros_like(naive_bayes.current_class_probs))\n",
    "    # ograniczamy wartości do nieujemnych\n",
    "    sigma_param = pyro.param(\"sigma\", torch.ones_like(naive_bayes.current_class_probs), constraint=constraints.positive)\n",
    "    probs_prior = pyro.distributions.Normal(loc=mu_param, scale=sigma_param).to_event(1)\n",
    "    return pyro.sample(\"probs\", probs_prior, infer={'is_auxiliary': True})\n",
    "\n",
    "def train(X):\n",
    "    pyro.clear_param_store()\n",
    "    num_iterations=5000\n",
    "    optim = pyro.optim.Adam({\"lr\": 0.03})\n",
    "    svi = pyro.infer.SVI(model, guide, optim, loss=pyro.infer.Trace_ELBO(), num_samples=len(X))\n",
    "    losses = list()\n",
    "    t=tqdm(range(num_iterations))\n",
    "    for j in t:\n",
    "        loss = svi.step(X)\n",
    "        losses.append(loss)\n",
    "        t.set_postfix(loss=loss)\n",
    "    return (svi, losses)"
   ]
  },
  {
   "cell_type": "code",
   "execution_count": 5,
   "metadata": {},
   "outputs": [],
   "source": [
    "class NaiveBayesClassifier:\n",
    "    def __init__(self, use_svi=True):\n",
    "        self.use_svi = use_svi\n",
    "    \n",
    "    def fit(self, X, y):\n",
    "        self.X = X\n",
    "        self.y = y\n",
    "        \n",
    "        self.available_y = np.unique(y)\n",
    "        self.num_features = X.shape[1]\n",
    "        self._count_y_prob()\n",
    "        self.params_for_probs = list()\n",
    "        \n",
    "        for target in self.available_y:\n",
    "            self.X_current_class = torch.from_numpy(X[y==target])\n",
    "            if (self.use_svi):\n",
    "                self.current_class_probs = torch.from_numpy(np.random.randn(self.num_features))\n",
    "                train(self.X_current_class)\n",
    "                mu = pyro.param(\"mu\")\n",
    "                sigma = pyro.param(\"sigma\")\n",
    "                sigma2 = sigma*sigma # pyro uses std instead of var\n",
    "            self.params_for_probs.append(torch.stack([mu, sigma2], dim=0))\n",
    "            \n",
    "        for i in range(len(self.params_for_probs)):\n",
    "            self.params_for_probs[i] = self.params_for_probs[i].detach().numpy()\n",
    "            \n",
    "    def _count_y_prob(self):\n",
    "        total_quantity = len(self.y)\n",
    "        self.p_y = [np.count_nonzero(self.y == i) / total_quantity for i in self.available_y]\n",
    "    \n",
    "    def predict(self, X):\n",
    "        predicted = list()\n",
    "        for i in range(len(X)):\n",
    "            predicted.append(self._predict_one_example(i, X[i, :]))\n",
    "        return np.asarray(predicted)\n",
    "\n",
    "    def _predict_one_example(self, i: int, x: np.ndarray):\n",
    "        certainity_for_ys = list()\n",
    "        for y in self.available_y:  # for every class\n",
    "            certainity_for_ys.append(self.p_y[y])\n",
    "            for i in range(len(x)):  # for every feature\n",
    "                certainity_for_ys[-1] *= self._p_xi_on_condition_y(i, y, x[i])\n",
    "        return self.available_y[certainity_for_ys.index(max(certainity_for_ys))]\n",
    "    \n",
    "    def _p_xi_on_condition_y(self, feature_index, y_index, x_i):\n",
    "#         print(y_index)\n",
    "#         print(feature_index)\n",
    "#         print(self.params_for_probs)\n",
    "        multiplier = 1 / np.sqrt(2 * np.pi * self.params_for_probs[y_index][1, feature_index])\n",
    "        exp = - (x_i - self.params_for_probs[y_index][0, feature_index]) ** 2 / (2 * self.params_for_probs[y_index][1, feature_index])\n",
    "        return multiplier * np.power(np.e, exp)"
   ]
  },
  {
   "cell_type": "code",
   "execution_count": 6,
   "metadata": {},
   "outputs": [],
   "source": [
    "naive_bayes = NaiveBayesClassifier()\n",
    "# naive_bayes.fit(X, y)"
   ]
  },
  {
   "cell_type": "code",
   "execution_count": 7,
   "metadata": {},
   "outputs": [],
   "source": [
    "def crossval_research(data, target):\n",
    "    splitter = StratifiedKFold(n_splits=7, shuffle=True)\n",
    "    split_set_generator = splitter.split(data, target)\n",
    "\n",
    "    # trainning and testing\n",
    "    y_pred = list()\n",
    "    y_true = list()\n",
    "\n",
    "    for train_indices, test_indices in split_set_generator:\n",
    "        X_train = data[train_indices]\n",
    "        Y_train = target[train_indices]\n",
    "        naive_bayes.fit(X_train, Y_train)\n",
    "        y_pred.extend(naive_bayes.predict(data[test_indices]))\n",
    "        y_true.extend(target[test_indices])\n",
    "\n",
    "    confusion = metrics.confusion_matrix(y_true, y_pred)\n",
    "    accuracy = metrics.accuracy_score(y_true, y_pred)\n",
    "    precision = metrics.precision_score(y_true, y_pred, average=None)\n",
    "    recall = metrics.recall_score(y_true, y_pred, average=None)\n",
    "    f1_score = metrics.f1_score(y_true, y_pred, average=None)\n",
    "\n",
    "    return {\"confusion\": confusion, \"accuracy\": accuracy, \"precision\": precision,\n",
    "            \"recall\": recall, \"f1_score\": f1_score}"
   ]
  },
  {
   "cell_type": "code",
   "execution_count": 8,
   "metadata": {},
   "outputs": [
    {
     "data": {
      "application/vnd.jupyter.widget-view+json": {
       "model_id": "df4fc0165f124d3b9af3a8c1ef4215e5",
       "version_major": 2,
       "version_minor": 0
      },
      "text/plain": [
       "HBox(children=(IntProgress(value=0, max=5000), HTML(value='')))"
      ]
     },
     "metadata": {},
     "output_type": "display_data"
    },
    {
     "name": "stdout",
     "output_type": "stream",
     "text": [
      "\n"
     ]
    },
    {
     "data": {
      "application/vnd.jupyter.widget-view+json": {
       "model_id": "e72a17c87405486fa366bd5b4657074f",
       "version_major": 2,
       "version_minor": 0
      },
      "text/plain": [
       "HBox(children=(IntProgress(value=0, max=5000), HTML(value='')))"
      ]
     },
     "metadata": {},
     "output_type": "display_data"
    },
    {
     "name": "stdout",
     "output_type": "stream",
     "text": [
      "\n"
     ]
    },
    {
     "data": {
      "application/vnd.jupyter.widget-view+json": {
       "model_id": "445ca1a072b44373bf47ae21bdd80e27",
       "version_major": 2,
       "version_minor": 0
      },
      "text/plain": [
       "HBox(children=(IntProgress(value=0, max=5000), HTML(value='')))"
      ]
     },
     "metadata": {},
     "output_type": "display_data"
    },
    {
     "name": "stdout",
     "output_type": "stream",
     "text": [
      "\n"
     ]
    },
    {
     "data": {
      "application/vnd.jupyter.widget-view+json": {
       "model_id": "2dbb89308e2d46f7aa2eaf024eb27362",
       "version_major": 2,
       "version_minor": 0
      },
      "text/plain": [
       "HBox(children=(IntProgress(value=0, max=5000), HTML(value='')))"
      ]
     },
     "metadata": {},
     "output_type": "display_data"
    },
    {
     "name": "stdout",
     "output_type": "stream",
     "text": [
      "\n"
     ]
    },
    {
     "data": {
      "application/vnd.jupyter.widget-view+json": {
       "model_id": "d35f0137f56c41f7a589375e05bf3206",
       "version_major": 2,
       "version_minor": 0
      },
      "text/plain": [
       "HBox(children=(IntProgress(value=0, max=5000), HTML(value='')))"
      ]
     },
     "metadata": {},
     "output_type": "display_data"
    },
    {
     "name": "stdout",
     "output_type": "stream",
     "text": [
      "\n"
     ]
    },
    {
     "data": {
      "application/vnd.jupyter.widget-view+json": {
       "model_id": "1b79ac5a8c7b435f8c65141ceea13c0b",
       "version_major": 2,
       "version_minor": 0
      },
      "text/plain": [
       "HBox(children=(IntProgress(value=0, max=5000), HTML(value='')))"
      ]
     },
     "metadata": {},
     "output_type": "display_data"
    },
    {
     "name": "stdout",
     "output_type": "stream",
     "text": [
      "\n"
     ]
    },
    {
     "data": {
      "application/vnd.jupyter.widget-view+json": {
       "model_id": "a48d2bcfcf05445d81913c1f3f7dbb92",
       "version_major": 2,
       "version_minor": 0
      },
      "text/plain": [
       "HBox(children=(IntProgress(value=0, max=5000), HTML(value='')))"
      ]
     },
     "metadata": {},
     "output_type": "display_data"
    },
    {
     "name": "stdout",
     "output_type": "stream",
     "text": [
      "\n"
     ]
    },
    {
     "data": {
      "application/vnd.jupyter.widget-view+json": {
       "model_id": "d89a4b9274ee4a9096958920cefb98d2",
       "version_major": 2,
       "version_minor": 0
      },
      "text/plain": [
       "HBox(children=(IntProgress(value=0, max=5000), HTML(value='')))"
      ]
     },
     "metadata": {},
     "output_type": "display_data"
    },
    {
     "name": "stdout",
     "output_type": "stream",
     "text": [
      "\n"
     ]
    },
    {
     "data": {
      "application/vnd.jupyter.widget-view+json": {
       "model_id": "48c5c84451194e99bd65a6ae23450fad",
       "version_major": 2,
       "version_minor": 0
      },
      "text/plain": [
       "HBox(children=(IntProgress(value=0, max=5000), HTML(value='')))"
      ]
     },
     "metadata": {},
     "output_type": "display_data"
    },
    {
     "name": "stdout",
     "output_type": "stream",
     "text": [
      "\n"
     ]
    },
    {
     "data": {
      "application/vnd.jupyter.widget-view+json": {
       "model_id": "161f3d0ff4f04bcc9baea00070eb28a5",
       "version_major": 2,
       "version_minor": 0
      },
      "text/plain": [
       "HBox(children=(IntProgress(value=0, max=5000), HTML(value='')))"
      ]
     },
     "metadata": {},
     "output_type": "display_data"
    },
    {
     "name": "stdout",
     "output_type": "stream",
     "text": [
      "\n"
     ]
    },
    {
     "data": {
      "application/vnd.jupyter.widget-view+json": {
       "model_id": "7e1a6c1ca92141b6bd850100dcc92353",
       "version_major": 2,
       "version_minor": 0
      },
      "text/plain": [
       "HBox(children=(IntProgress(value=0, max=5000), HTML(value='')))"
      ]
     },
     "metadata": {},
     "output_type": "display_data"
    },
    {
     "name": "stdout",
     "output_type": "stream",
     "text": [
      "\n"
     ]
    },
    {
     "data": {
      "application/vnd.jupyter.widget-view+json": {
       "model_id": "708fa15d9c3d4467b19293bfa0b360ce",
       "version_major": 2,
       "version_minor": 0
      },
      "text/plain": [
       "HBox(children=(IntProgress(value=0, max=5000), HTML(value='')))"
      ]
     },
     "metadata": {},
     "output_type": "display_data"
    },
    {
     "name": "stdout",
     "output_type": "stream",
     "text": [
      "\n"
     ]
    },
    {
     "data": {
      "application/vnd.jupyter.widget-view+json": {
       "model_id": "f53888f8772a4bf4a87eb5b8b61c5efa",
       "version_major": 2,
       "version_minor": 0
      },
      "text/plain": [
       "HBox(children=(IntProgress(value=0, max=5000), HTML(value='')))"
      ]
     },
     "metadata": {},
     "output_type": "display_data"
    },
    {
     "name": "stdout",
     "output_type": "stream",
     "text": [
      "\n"
     ]
    },
    {
     "data": {
      "application/vnd.jupyter.widget-view+json": {
       "model_id": "1a8ba4caa6e44542b60601b65ae7d6ae",
       "version_major": 2,
       "version_minor": 0
      },
      "text/plain": [
       "HBox(children=(IntProgress(value=0, max=5000), HTML(value='')))"
      ]
     },
     "metadata": {},
     "output_type": "display_data"
    },
    {
     "name": "stdout",
     "output_type": "stream",
     "text": [
      "\n"
     ]
    },
    {
     "data": {
      "application/vnd.jupyter.widget-view+json": {
       "model_id": "fd818ba9384e4bc4b0dc6142df17a819",
       "version_major": 2,
       "version_minor": 0
      },
      "text/plain": [
       "HBox(children=(IntProgress(value=0, max=5000), HTML(value='')))"
      ]
     },
     "metadata": {},
     "output_type": "display_data"
    },
    {
     "name": "stdout",
     "output_type": "stream",
     "text": [
      "\n"
     ]
    },
    {
     "data": {
      "application/vnd.jupyter.widget-view+json": {
       "model_id": "8cb5a8b55cd84ef7a1382b40c4308870",
       "version_major": 2,
       "version_minor": 0
      },
      "text/plain": [
       "HBox(children=(IntProgress(value=0, max=5000), HTML(value='')))"
      ]
     },
     "metadata": {},
     "output_type": "display_data"
    },
    {
     "name": "stdout",
     "output_type": "stream",
     "text": [
      "\n"
     ]
    },
    {
     "data": {
      "application/vnd.jupyter.widget-view+json": {
       "model_id": "29c690d808b341cba9026060a8728dc3",
       "version_major": 2,
       "version_minor": 0
      },
      "text/plain": [
       "HBox(children=(IntProgress(value=0, max=5000), HTML(value='')))"
      ]
     },
     "metadata": {},
     "output_type": "display_data"
    },
    {
     "name": "stdout",
     "output_type": "stream",
     "text": [
      "\n"
     ]
    },
    {
     "data": {
      "application/vnd.jupyter.widget-view+json": {
       "model_id": "5b77ed1cc5944a1caf720a5473877a35",
       "version_major": 2,
       "version_minor": 0
      },
      "text/plain": [
       "HBox(children=(IntProgress(value=0, max=5000), HTML(value='')))"
      ]
     },
     "metadata": {},
     "output_type": "display_data"
    },
    {
     "name": "stdout",
     "output_type": "stream",
     "text": [
      "\n"
     ]
    },
    {
     "data": {
      "application/vnd.jupyter.widget-view+json": {
       "model_id": "fc890218c8d34c4c82313980225c0c1e",
       "version_major": 2,
       "version_minor": 0
      },
      "text/plain": [
       "HBox(children=(IntProgress(value=0, max=5000), HTML(value='')))"
      ]
     },
     "metadata": {},
     "output_type": "display_data"
    },
    {
     "name": "stdout",
     "output_type": "stream",
     "text": [
      "\n"
     ]
    },
    {
     "data": {
      "application/vnd.jupyter.widget-view+json": {
       "model_id": "ec9388b713ee40c7ae2411d501fb8245",
       "version_major": 2,
       "version_minor": 0
      },
      "text/plain": [
       "HBox(children=(IntProgress(value=0, max=5000), HTML(value='')))"
      ]
     },
     "metadata": {},
     "output_type": "display_data"
    },
    {
     "name": "stdout",
     "output_type": "stream",
     "text": [
      "\n"
     ]
    },
    {
     "data": {
      "application/vnd.jupyter.widget-view+json": {
       "model_id": "0fae464d64854d1dbefb51733de731ac",
       "version_major": 2,
       "version_minor": 0
      },
      "text/plain": [
       "HBox(children=(IntProgress(value=0, max=5000), HTML(value='')))"
      ]
     },
     "metadata": {},
     "output_type": "display_data"
    },
    {
     "name": "stdout",
     "output_type": "stream",
     "text": [
      "\n"
     ]
    }
   ],
   "source": [
    "class_metrics = crossval_research(X.values, y.values)"
   ]
  },
  {
   "cell_type": "code",
   "execution_count": 9,
   "metadata": {},
   "outputs": [
    {
     "name": "stdout",
     "output_type": "stream",
     "text": [
      "mu\n",
      "sigma\n",
      "tensor([13.1893,  3.4074,  2.4454, 21.4881,  5.1305,  1.6817,  0.7857,  0.4471,\n",
      "         1.1824,  7.4214,  0.6876,  1.6893,  4.7425], dtype=torch.float64,\n",
      "       requires_grad=True)\n",
      "tensor([  0.5369,   1.1036,   0.1830,   2.3555,  81.9035,   0.3581,   0.2985,\n",
      "          0.1276,   0.4134,   2.3700,   0.1118,   0.2808, 111.4774],\n",
      "       dtype=torch.float64, grad_fn=<AddBackward0>)\n"
     ]
    }
   ],
   "source": [
    "param_store = pyro.get_param_store()\n",
    "for key in param_store.keys():\n",
    "    print(key)\n",
    "    \n",
    "print(pyro.param(\"mu\"))\n",
    "print(pyro.param(\"sigma\"))"
   ]
  },
  {
   "cell_type": "code",
   "execution_count": 10,
   "metadata": {},
   "outputs": [
    {
     "name": "stdout",
     "output_type": "stream",
     "text": [
      "{'confusion': array([[58,  1,  0],\n",
      "       [ 3, 66,  2],\n",
      "       [ 0,  0, 48]]), 'accuracy': 0.9662921348314607, 'precision': array([0.95081967, 0.98507463, 0.96      ]), 'recall': array([0.98305085, 0.92957746, 1.        ]), 'f1_score': array([0.96666667, 0.95652174, 0.97959184])}\n"
     ]
    }
   ],
   "source": [
    "print(class_metrics)"
   ]
  },
  {
   "cell_type": "markdown",
   "metadata": {},
   "source": [
    "### Reasearch of model and guide"
   ]
  },
  {
   "cell_type": "code",
   "execution_count": null,
   "metadata": {},
   "outputs": [],
   "source": [
    "X_class_0 = X[y==0].values\n",
    "print(X_class_0.mean(0))\n",
    "print(X_class_0.std(0))\n",
    "\n",
    "means = torch.zeros_like(torch.from_numpy(X_class_0[0,:]))\n",
    "stds = torch.ones_like(torch.from_numpy(X_class_0[0,:]))\n",
    "\n",
    "X_class_0 = torch.from_numpy(X_class_0)"
   ]
  },
  {
   "cell_type": "code",
   "execution_count": null,
   "metadata": {},
   "outputs": [],
   "source": [
    "def model(X):\n",
    "    # rejestrujemy zmienną do przestrzeni optymalizacji (store pyro)\n",
    "    mu_param = pyro.param(\"mu\", torch.zeros_like(means))\n",
    "    # ograniczamy wartości do nieujemnych\n",
    "    sigma_param = pyro.param(\"sigma\", torch.ones_like(stds), constraint=constraints.positive)\n",
    "    params = pyro.distributions.Normal(loc=mu_param, scale=sigma_param).to_event(1)\n",
    "    with pyro.plate(\"map\", len(X)):\n",
    "        pyro.sample(\"probs\", params, obs=X)\n",
    "\n",
    "def guide(X):\n",
    "    # rejestrujemy zmienną do przestrzeni optymalizacji (store pyro)\n",
    "    mu_param = pyro.param(\"mu\", torch.zeros_like(means))\n",
    "    # ograniczamy wartości do nieujemnych\n",
    "    sigma_param = pyro.param(\"sigma\", torch.ones_like(stds), constraint=constraints.positive)\n",
    "    probs_prior = pyro.distributions.Normal(loc=mu_param, scale=sigma_param).to_event(1)\n",
    "    return pyro.sample(\"probs\", probs_prior, infer={'is_auxiliary': True})\n",
    "\n",
    "def train(X):\n",
    "    pyro.clear_param_store()\n",
    "    num_iterations=10000\n",
    "    optim = pyro.optim.Adam({\"lr\": 0.01})\n",
    "    svi = pyro.infer.SVI(model, guide, optim, loss=pyro.infer.Trace_ELBO(), num_samples=len(X))\n",
    "    losses = list()\n",
    "    t=tqdm(range(num_iterations))\n",
    "    for j in t:\n",
    "        loss = svi.step(X)\n",
    "        losses.append(loss)\n",
    "        t.set_postfix(loss=loss)\n",
    "    return (svi, losses)"
   ]
  },
  {
   "cell_type": "code",
   "execution_count": null,
   "metadata": {},
   "outputs": [],
   "source": [
    "svi, losses = train(X_class_0)"
   ]
  },
  {
   "cell_type": "code",
   "execution_count": null,
   "metadata": {},
   "outputs": [],
   "source": [
    "pyro_mu = pyro.param(\"mu\")\n",
    "pyro_sigma = pyro.param(\"sigma\")\n",
    "data_mu = X_class_0.mean(0)\n",
    "data_sigma = X_class_0.std(0)"
   ]
  },
  {
   "cell_type": "code",
   "execution_count": null,
   "metadata": {},
   "outputs": [],
   "source": [
    "print(data_mu)\n",
    "print(pyro_mu)\n",
    "print(pyro_mu - data_mu)\n",
    "print()\n",
    "print(data_sigma)\n",
    "print(pyro_sigma)\n",
    "print(pyro_sigma - data_sigma)"
   ]
  },
  {
   "cell_type": "code",
   "execution_count": null,
   "metadata": {},
   "outputs": [],
   "source": []
  }
 ],
 "metadata": {
  "kernelspec": {
   "display_name": "Python 3",
   "language": "python",
   "name": "python3"
  },
  "language_info": {
   "codemirror_mode": {
    "name": "ipython",
    "version": 3
   },
   "file_extension": ".py",
   "mimetype": "text/x-python",
   "name": "python",
   "nbconvert_exporter": "python",
   "pygments_lexer": "ipython3",
   "version": "3.6.7"
  }
 },
 "nbformat": 4,
 "nbformat_minor": 2
}
